{
 "cells": [
  {
   "cell_type": "markdown",
   "id": "7c51402d",
   "metadata": {},
   "source": [
    "## Imports"
   ]
  },
  {
   "cell_type": "code",
   "execution_count": 1,
   "id": "12b25c9b",
   "metadata": {},
   "outputs": [
    {
     "name": "stderr",
     "output_type": "stream",
     "text": [
      "C:\\Users\\Dan\\AppData\\Local\\Temp\\ipykernel_2356\\985348789.py:21: DeprecationWarning: `photutils.CircularAperture` is a deprecated alias for `photutils.aperture.CircularAperture` and will be removed in the future. Instead, please use `from photutils.aperture import CircularAperture` to silence this warning.\n",
      "  from photutils import CircularAperture, SkyCircularAperture, DAOStarFinder\n",
      "C:\\Users\\Dan\\AppData\\Local\\Temp\\ipykernel_2356\\985348789.py:21: DeprecationWarning: `photutils.SkyCircularAperture` is a deprecated alias for `photutils.aperture.SkyCircularAperture` and will be removed in the future. Instead, please use `from photutils.aperture import SkyCircularAperture` to silence this warning.\n",
      "  from photutils import CircularAperture, SkyCircularAperture, DAOStarFinder\n",
      "C:\\Users\\Dan\\AppData\\Local\\Temp\\ipykernel_2356\\985348789.py:21: DeprecationWarning: `photutils.DAOStarFinder` is a deprecated alias for `photutils.detection.DAOStarFinder` and will be removed in the future. Instead, please use `from photutils.detection import DAOStarFinder` to silence this warning.\n",
      "  from photutils import CircularAperture, SkyCircularAperture, DAOStarFinder\n"
     ]
    }
   ],
   "source": [
    "import matplotlib.pyplot as plt\n",
    "import numpy as np\n",
    "\n",
    "import glob\n",
    "import pickle\n",
    "import time\n",
    "import os\n",
    "from copy import copy\n",
    "\n",
    "from ipywidgets import FileUpload\n",
    "from IPython.display import display\n",
    "\n",
    "import astropy\n",
    "from astropy.modeling import models\n",
    "from astropy import units as u\n",
    "from astropy.coordinates import SkyCoord, Angle\n",
    "from astropy.table import Table, vstack\n",
    "from astropy.stats import sigma_clipped_stats\n",
    "from astropy.nddata import StdDevUncertainty\n",
    "from astropy.utils.data import download_file\n",
    "from photutils import CircularAperture, SkyCircularAperture, DAOStarFinder\n",
    "from regions import PixCoord, CirclePixelRegion, CircleSkyRegion\n",
    "from astropy.io import fits, ascii\n",
    "from astropy.wcs import WCS\n",
    "from astropy.utils.data import get_pkg_data_filename\n",
    "from astropy.utils.data import download_file\n",
    "\n",
    "from specutils import Spectrum1D\n",
    "from specutils.fitting import fit_generic_continuum, fit_lines\n",
    "from specutils.manipulation import box_smooth, extract_region, SplineInterpolatedResampler\n",
    "from specutils.analysis import line_flux, centroid, equivalent_width\n",
    "from specutils.spectra import SpectralRegion\n",
    "from specutils import SpectrumList\n",
    "\n",
    "from scipy.optimize import curve_fit\n",
    "\n",
    "\n",
    "\n",
    "from jdaviz import Imviz, Specviz, Cubeviz\n",
    "from jdaviz.app import Application\n",
    "imviz = Imviz()\n",
    "specviz = Specviz()\n",
    "cubeviz = Cubeviz()\n",
    "\n"
   ]
  },
  {
   "cell_type": "markdown",
   "id": "bae3caa0",
   "metadata": {},
   "source": [
    "## Imviz\n"
   ]
  },
  {
   "cell_type": "markdown",
   "id": "cfe564ee",
   "metadata": {},
   "source": [
    "#### To import JWST images\n",
    "Find images as .fits files on https://mast.stsci.edu/portal/Mashup/Clients/Mast/Portal.html\n",
    "\n",
    "Put .fits files into fits directory, run cell below."
   ]
  },
  {
   "cell_type": "code",
   "execution_count": 2,
   "id": "3fd8ae6e",
   "metadata": {},
   "outputs": [
    {
     "name": "stdout",
     "output_type": "stream",
     "text": [
      "['./fits/jw02731001001_02105_00001_nrca1_cal.fits', './fits/jw02731001001_02105_00002_nrca4_cal.fits']\n"
     ]
    }
   ],
   "source": [
    "all_fits = []\n",
    "\n",
    "all_fits_init = glob.glob('./fits/*.fits')\n",
    "for file in all_fits_init:\n",
    "    newfile = file.replace('\\\\','/')\n",
    "    all_fits.append(newfile)\n",
    "print(all_fits)"
   ]
  },
  {
   "cell_type": "markdown",
   "id": "0d596e48",
   "metadata": {},
   "source": [
    "#### Loading Data\n",
    "Run this cell to load JWST images into Imviz, the in-house software for processing post-pipeline JWST images. Can modify cuts factor here (percentage), generally the higher the better. The second cell will link the fits files by their WCS coords. Once the data is loaded you can run the third cell to open the Imviz GUI."
   ]
  },
  {
   "cell_type": "code",
   "execution_count": 3,
   "id": "c62fb2b5",
   "metadata": {},
   "outputs": [
    {
     "name": "stdout",
     "output_type": "stream",
     "text": [
      "./fits/jw02731001001_02105_00001_nrca1_cal.fits  loaded\n",
      "./fits/jw02731001001_02105_00002_nrca4_cal.fits  loaded\n",
      "All files loaded!\n"
     ]
    }
   ],
   "source": [
    "for file in all_fits:\n",
    "    imviz.load_data(file)\n",
    "    print(file,' loaded')\n",
    "print('All files loaded!')\n",
    "\n",
    "viewer = imviz.default_viewer\n",
    "viewer.cuts = '99%'"
   ]
  },
  {
   "cell_type": "code",
   "execution_count": 4,
   "id": "c8898fca",
   "metadata": {},
   "outputs": [],
   "source": [
    "imviz.link_data(link_type='wcs')"
   ]
  },
  {
   "cell_type": "code",
   "execution_count": 5,
   "id": "3b747c5a",
   "metadata": {},
   "outputs": [
    {
     "data": {
      "application/vnd.jupyter.widget-view+json": {
       "model_id": "62aa10bbf9c645b88a226290f11a9bca",
       "version_major": 2,
       "version_minor": 0
      },
      "text/plain": [
       "Application(config='imviz', events=['call_viewer_method', 'close_snackbar_message', 'data_item_remove', 'data_…"
      ]
     },
     "metadata": {},
     "output_type": "display_data"
    }
   ],
   "source": [
    "imviz.show_in_sidecar()"
   ]
  },
  {
   "cell_type": "markdown",
   "id": "f8efda5e",
   "metadata": {
    "scrolled": true
   },
   "source": [
    "#### Processing Options\n",
    "\n"
   ]
  },
  {
   "cell_type": "code",
   "execution_count": 10,
   "id": "26644d79",
   "metadata": {},
   "outputs": [
    {
     "name": "stdout",
     "output_type": "stream",
     "text": [
      "['Gray', 'Viridis', 'Plasma', 'Inferno', 'Magma', 'Purple-Blue', 'Yellow-Green-Blue', 'Yellow-Orange-Red', 'Red-Purple', 'Blue-Green', 'Hot', 'Red-Blue', 'Red-Yellow-Blue', 'Purple-Orange', 'Purple-Green', 'Rainbow', 'Seismic', 'Reversed: Gray', 'Reversed: Viridis', 'Reversed: Plasma', 'Reversed: Inferno', 'Reversed: Magma', 'Reversed: Hot', 'Reversed: Rainbow']\n"
     ]
    }
   ],
   "source": [
    "print(viewer.colormap_options)\n",
    "viewer.set_colormap('Gray')"
   ]
  },
  {
   "cell_type": "code",
   "execution_count": 15,
   "id": "58eae0a8",
   "metadata": {},
   "outputs": [
    {
     "name": "stdout",
     "output_type": "stream",
     "text": [
      "Type name of file: fuckyou\n",
      "fuckyou.png\n"
     ]
    }
   ],
   "source": [
    "filename = input('Type name of file: ')+'.png'\n",
    "print(filename)\n",
    "viewer.save(filename)"
   ]
  },
  {
   "cell_type": "code",
   "execution_count": null,
   "id": "6f171562",
   "metadata": {},
   "outputs": [],
   "source": []
  }
 ],
 "metadata": {
  "kernelspec": {
   "display_name": "Python 3 (ipykernel)",
   "language": "python",
   "name": "python3"
  },
  "language_info": {
   "codemirror_mode": {
    "name": "ipython",
    "version": 3
   },
   "file_extension": ".py",
   "mimetype": "text/x-python",
   "name": "python",
   "nbconvert_exporter": "python",
   "pygments_lexer": "ipython3",
   "version": "3.11.4"
  }
 },
 "nbformat": 4,
 "nbformat_minor": 5
}
