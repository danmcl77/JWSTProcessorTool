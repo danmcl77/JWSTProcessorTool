{
 "cells": [
  {
   "cell_type": "markdown",
   "id": "7c51402d",
   "metadata": {},
   "source": [
    "## Imports"
   ]
  },
  {
   "cell_type": "code",
   "execution_count": 1,
   "id": "12b25c9b",
   "metadata": {},
   "outputs": [
    {
     "name": "stderr",
     "output_type": "stream",
     "text": [
      "C:\\Users\\Dan\\AppData\\Local\\Temp\\ipykernel_116\\2330992003.py:16: DeprecationWarning: `photutils.CircularAperture` is a deprecated alias for `photutils.aperture.CircularAperture` and will be removed in the future. Instead, please use `from photutils.aperture import CircularAperture` to silence this warning.\n",
      "  from photutils import CircularAperture, SkyCircularAperture, DAOStarFinder\n",
      "C:\\Users\\Dan\\AppData\\Local\\Temp\\ipykernel_116\\2330992003.py:16: DeprecationWarning: `photutils.SkyCircularAperture` is a deprecated alias for `photutils.aperture.SkyCircularAperture` and will be removed in the future. Instead, please use `from photutils.aperture import SkyCircularAperture` to silence this warning.\n",
      "  from photutils import CircularAperture, SkyCircularAperture, DAOStarFinder\n",
      "C:\\Users\\Dan\\AppData\\Local\\Temp\\ipykernel_116\\2330992003.py:16: DeprecationWarning: `photutils.DAOStarFinder` is a deprecated alias for `photutils.detection.DAOStarFinder` and will be removed in the future. Instead, please use `from photutils.detection import DAOStarFinder` to silence this warning.\n",
      "  from photutils import CircularAperture, SkyCircularAperture, DAOStarFinder\n"
     ]
    }
   ],
   "source": [
    "import matplotlib.pyplot as plt\n",
    "import numpy as np\n",
    "\n",
    "import time\n",
    "import os\n",
    "from copy import copy\n",
    "\n",
    "import astropy\n",
    "from astropy.modeling import models\n",
    "from astropy import units as u\n",
    "from astropy.coordinates import SkyCoord, Angle\n",
    "from astropy.table import Table, vstack\n",
    "from astropy.stats import sigma_clipped_stats\n",
    "from astropy.nddata import StdDevUncertainty\n",
    "from astropy.utils.data import download_file\n",
    "from photutils import CircularAperture, SkyCircularAperture, DAOStarFinder\n",
    "from regions import PixCoord, CirclePixelRegion, CircleSkyRegion\n",
    "from astropy.io import fits, ascii\n",
    "from astropy.wcs import WCS\n",
    "from astropy.utils.data import get_pkg_data_filename\n",
    "from astropy.utils.data import download_file\n",
    "\n",
    "from specutils import Spectrum1D\n",
    "from specutils.fitting import fit_generic_continuum, fit_lines\n",
    "from specutils.manipulation import box_smooth, extract_region, SplineInterpolatedResampler\n",
    "from specutils.analysis import line_flux, centroid, equivalent_width\n",
    "from specutils.spectra import SpectralRegion\n",
    "from specutils import SpectrumList\n",
    "\n",
    "from scipy.optimize import curve_fit\n",
    "\n",
    "\n",
    "\n",
    "from jdaviz import Imviz, Specviz, Cubeviz\n",
    "from jdaviz.app import Application\n",
    "imviz = Imviz()\n",
    "specviz = Specviz()\n",
    "cubeviz = Cubeviz()\n",
    "\n"
   ]
  },
  {
   "cell_type": "markdown",
   "id": "bae3caa0",
   "metadata": {},
   "source": [
    "## Imviz\n"
   ]
  },
  {
   "cell_type": "markdown",
   "id": "cfe564ee",
   "metadata": {},
   "source": [
    "#### To import JWST images\n",
    "Find images as .fits files on https://mast.stsci.edu/portal/Mashup/Clients/Mast/Portal.html\n",
    "\n",
    "Upload to notebook by running cell below"
   ]
  },
  {
   "cell_type": "code",
   "execution_count": 2,
   "id": "5547acae",
   "metadata": {
    "scrolled": true
   },
   "outputs": [],
   "source": []
  },
  {
   "cell_type": "code",
   "execution_count": 3,
   "id": "ece1bb2a",
   "metadata": {
    "scrolled": true
   },
   "outputs": [
    {
     "data": {
      "application/vnd.jupyter.widget-view+json": {
       "model_id": "a5bc2a25a9884825bcce710c4e9b3ad2",
       "version_major": 2,
       "version_minor": 0
      },
      "text/plain": [
       "Application(config='imviz', events=['call_viewer_method', 'close_snackbar_message', 'data_item_remove', 'data_…"
      ]
     },
     "metadata": {},
     "output_type": "display_data"
    }
   ],
   "source": [
    "imviz.show_in_sidecar()\n",
    "\n"
   ]
  },
  {
   "cell_type": "code",
   "execution_count": 4,
   "id": "26644d79",
   "metadata": {},
   "outputs": [
    {
     "name": "stderr",
     "output_type": "stream",
     "text": [
      "C:\\Users\\Dan\\miniconda3\\envs\\jdaviz-env\\lib\\site-packages\\glue\\viewers\\common\\viewer.py:186: UserWarning: Add large data set?\n",
      "  warnings.warn(message)\n"
     ]
    },
    {
     "name": "stdout",
     "output_type": "stream",
     "text": [
      "./Fits/25/1.fits  loaded\n"
     ]
    },
    {
     "name": "stderr",
     "output_type": "stream",
     "text": [
      "C:\\Users\\Dan\\miniconda3\\envs\\jdaviz-env\\lib\\site-packages\\glue\\viewers\\common\\viewer.py:186: UserWarning: Add large data set?\n",
      "  warnings.warn(message)\n"
     ]
    },
    {
     "name": "stdout",
     "output_type": "stream",
     "text": [
      "./Fits/25/2.fits  loaded\n"
     ]
    },
    {
     "name": "stderr",
     "output_type": "stream",
     "text": [
      "C:\\Users\\Dan\\miniconda3\\envs\\jdaviz-env\\lib\\site-packages\\glue\\viewers\\common\\viewer.py:186: UserWarning: Add large data set?\n",
      "  warnings.warn(message)\n"
     ]
    },
    {
     "name": "stdout",
     "output_type": "stream",
     "text": [
      "./Fits/25/3.fits  loaded\n",
      "./Fits/25/4.fits  loaded\n",
      "./Fits/25/5.fits  loaded\n",
      "./Fits/25/6.fits  loaded\n",
      "./Fits/25/7.fits  loaded\n",
      "./Fits/26/1.fits  loaded\n",
      "./Fits/26/2.fits  loaded\n",
      "./Fits/26/3.fits  loaded\n",
      "All files loaded!\n"
     ]
    }
   ],
   "source": [
    "for file in files:\n",
    "    imviz.load_data(file)\n",
    "    print(file,' loaded')\n",
    "print('All files loaded!')\n",
    "\n",
    "viewer = imviz.default_viewer\n",
    "viewer.cuts = '99%'"
   ]
  }
 ],
 "metadata": {
  "kernelspec": {
   "display_name": "Python 3 (ipykernel)",
   "language": "python",
   "name": "python3"
  },
  "language_info": {
   "codemirror_mode": {
    "name": "ipython",
    "version": 3
   },
   "file_extension": ".py",
   "mimetype": "text/x-python",
   "name": "python",
   "nbconvert_exporter": "python",
   "pygments_lexer": "ipython3",
   "version": "3.11.4"
  }
 },
 "nbformat": 4,
 "nbformat_minor": 5
}
