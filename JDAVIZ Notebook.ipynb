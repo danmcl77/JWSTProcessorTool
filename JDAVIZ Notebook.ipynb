{
 "cells": [
  {
   "cell_type": "markdown",
   "id": "7c51402d",
   "metadata": {},
   "source": [
    "## Imports"
   ]
  },
  {
   "cell_type": "code",
   "execution_count": 1,
   "id": "12b25c9b",
   "metadata": {},
   "outputs": [],
   "source": [
    "import matplotlib.pyplot as plt\n",
    "import numpy as np\n",
    "\n",
    "import time\n",
    "import os\n",
    "from copy import copy\n",
    "\n",
    "import astropy\n",
    "from astropy.modeling import models\n",
    "from astropy import units as u\n",
    "from astropy.coordinates import SkyCoord, Angle\n",
    "from astropy.table import Table, vstack\n",
    "from astropy.stats import sigma_clipped_stats\n",
    "from astropy.nddata import StdDevUncertainty\n",
    "from astropy.utils.data import download_file\n",
    "from photutils import CircularAperture, SkyCircularAperture, DAOStarFinder\n",
    "from regions import PixCoord, CirclePixelRegion, CircleSkyRegion\n",
    "from astropy.io import fits, ascii\n",
    "from astropy.wcs import WCS\n",
    "from astropy.utils.data import get_pkg_data_filename\n",
    "from astropy.utils.data import download_file\n",
    "\n",
    "from specutils import Spectrum1D\n",
    "from specutils.fitting import fit_generic_continuum, fit_lines\n",
    "from specutils.manipulation import box_smooth, extract_region, SplineInterpolatedResampler\n",
    "from specutils.analysis import line_flux, centroid, equivalent_width\n",
    "from specutils.spectra import SpectralRegion\n",
    "from specutils import SpectrumList\n",
    "\n",
    "from scipy.optimize import curve_fit\n",
    "\n",
    "\n",
    "\n",
    "from jdaviz import Imviz, Specviz, Cubeviz\n",
    "from jdaviz.app import Application\n",
    "imviz = Imviz()\n",
    "specviz = Specviz()\n",
    "cubeviz = Cubeviz()\n",
    "\n"
   ]
  },
  {
   "cell_type": "markdown",
   "id": "bae3caa0",
   "metadata": {},
   "source": [
    "## Imviz\n"
   ]
  },
  {
   "cell_type": "code",
   "execution_count": 2,
   "id": "5547acae",
   "metadata": {
    "scrolled": true
   },
   "outputs": [],
   "source": [
    "file1 = './Fits/25/1.fits'\n",
    "file2 = './Fits/25/2.fits'\n",
    "file3 = './Fits/25/3.fits'\n",
    "file4 = './Fits/25/4.fits'\n",
    "file5 = './Fits/25/5.fits'\n",
    "file6 = './Fits/25/6.fits'\n",
    "file7 = './Fits/25/7.fits'\n",
    "\n",
    "file8 = './Fits/26/1.fits'\n",
    "file9 = './Fits/26/2.fits'\n",
    "file10 = './Fits/26/3.fits'\n",
    "\n",
    "files = [file1,file2,file3,file4,file5,file6,file7,file8,file9,file10]"
   ]
  },
  {
   "cell_type": "code",
   "execution_count": 3,
   "id": "ece1bb2a",
   "metadata": {
    "scrolled": true
   },
   "outputs": [
    {
     "data": {
      "application/vnd.jupyter.widget-view+json": {
       "model_id": "a5bc2a25a9884825bcce710c4e9b3ad2",
       "version_major": 2,
       "version_minor": 0
      },
      "text/plain": [
       "Application(config='imviz', events=['call_viewer_method', 'close_snackbar_message', 'data_item_remove', 'data_…"
      ]
     },
     "metadata": {},
     "output_type": "display_data"
    }
   ],
   "source": [
    "imviz.show_in_sidecar()\n",
    "\n"
   ]
  },
  {
   "cell_type": "code",
   "execution_count": 4,
   "id": "26644d79",
   "metadata": {},
   "outputs": [
    {
     "name": "stderr",
     "output_type": "stream",
     "text": [
      "C:\\Users\\Dan\\miniconda3\\envs\\jdaviz-env\\lib\\site-packages\\glue\\viewers\\common\\viewer.py:186: UserWarning: Add large data set?\n",
      "  warnings.warn(message)\n"
     ]
    },
    {
     "name": "stdout",
     "output_type": "stream",
     "text": [
      "./Fits/25/1.fits  loaded\n"
     ]
    },
    {
     "name": "stderr",
     "output_type": "stream",
     "text": [
      "C:\\Users\\Dan\\miniconda3\\envs\\jdaviz-env\\lib\\site-packages\\glue\\viewers\\common\\viewer.py:186: UserWarning: Add large data set?\n",
      "  warnings.warn(message)\n"
     ]
    },
    {
     "name": "stdout",
     "output_type": "stream",
     "text": [
      "./Fits/25/2.fits  loaded\n"
     ]
    },
    {
     "name": "stderr",
     "output_type": "stream",
     "text": [
      "C:\\Users\\Dan\\miniconda3\\envs\\jdaviz-env\\lib\\site-packages\\glue\\viewers\\common\\viewer.py:186: UserWarning: Add large data set?\n",
      "  warnings.warn(message)\n"
     ]
    },
    {
     "name": "stdout",
     "output_type": "stream",
     "text": [
      "./Fits/25/3.fits  loaded\n",
      "./Fits/25/4.fits  loaded\n",
      "./Fits/25/5.fits  loaded\n",
      "./Fits/25/6.fits  loaded\n",
      "./Fits/25/7.fits  loaded\n",
      "./Fits/26/1.fits  loaded\n",
      "./Fits/26/2.fits  loaded\n",
      "./Fits/26/3.fits  loaded\n",
      "All files loaded!\n"
     ]
    }
   ],
   "source": [
    "for file in files:\n",
    "    imviz.load_data(file)\n",
    "    print(file,' loaded')\n",
    "print('All files loaded!')\n",
    "\n",
    "viewer = imviz.default_viewer\n",
    "viewer.cuts = '99%'"
   ]
  },
  {
   "cell_type": "markdown",
   "id": "8089dd87",
   "metadata": {},
   "source": [
    "## Specviz"
   ]
  },
  {
   "cell_type": "code",
   "execution_count": null,
   "id": "68d35e2b",
   "metadata": {},
   "outputs": [],
   "source": []
  },
  {
   "cell_type": "code",
   "execution_count": null,
   "id": "b39a3619",
   "metadata": {},
   "outputs": [],
   "source": [
    "specviz.show_in_sidecar()"
   ]
  },
  {
   "cell_type": "markdown",
   "id": "59b0c1d0",
   "metadata": {},
   "source": [
    "## Cubeviz"
   ]
  },
  {
   "cell_type": "code",
   "execution_count": null,
   "id": "0d1ce79f",
   "metadata": {},
   "outputs": [],
   "source": [
    "cubeviz.show_in_sidecar()"
   ]
  },
  {
   "cell_type": "code",
   "execution_count": null,
   "id": "383e291b",
   "metadata": {},
   "outputs": [],
   "source": []
  }
 ],
 "metadata": {
  "kernelspec": {
   "display_name": "Python 3 (ipykernel)",
   "language": "python",
   "name": "python3"
  },
  "language_info": {
   "codemirror_mode": {
    "name": "ipython",
    "version": 3
   },
   "file_extension": ".py",
   "mimetype": "text/x-python",
   "name": "python",
   "nbconvert_exporter": "python",
   "pygments_lexer": "ipython3",
   "version": "3.9.13"
  }
 },
 "nbformat": 4,
 "nbformat_minor": 5
}
