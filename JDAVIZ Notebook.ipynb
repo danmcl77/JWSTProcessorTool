{
 "cells": [
  {
   "cell_type": "markdown",
   "id": "7c51402d",
   "metadata": {},
   "source": [
    "## Imports"
   ]
  },
  {
   "cell_type": "code",
   "execution_count": null,
   "id": "12b25c9b",
   "metadata": {},
   "outputs": [],
   "source": [
    "import matplotlib.pyplot as plt\n",
    "import numpy as np\n",
    "\n",
    "import glob\n",
    "import pickle\n",
    "import time\n",
    "import os\n",
    "from copy import copy\n",
    "\n",
    "from ipywidgets import FileUpload\n",
    "from IPython.display import display\n",
    "\n",
    "import astropy\n",
    "from astropy.modeling import models\n",
    "from astropy import units as u\n",
    "from astropy.coordinates import SkyCoord, Angle\n",
    "from astropy.table import Table, vstack\n",
    "from astropy.stats import sigma_clipped_stats\n",
    "from astropy.nddata import StdDevUncertainty\n",
    "from astropy.utils.data import download_file\n",
    "from photutils.aperture import CircularAperture, SkyCircularAperture\n",
    "from photutils.detection import DAOStarFinder\n",
    "from regions import PixCoord, CirclePixelRegion, CircleSkyRegion\n",
    "from astropy.io import fits, ascii\n",
    "from astropy.wcs import WCS\n",
    "from astropy.utils.data import get_pkg_data_filename\n",
    "from astropy.utils.data import download_file\n",
    "\n",
    "from specutils import Spectrum1D\n",
    "from specutils.fitting import fit_generic_continuum, fit_lines\n",
    "from specutils.manipulation import box_smooth, extract_region, SplineInterpolatedResampler\n",
    "from specutils.analysis import line_flux, centroid, equivalent_width\n",
    "from specutils.spectra import SpectralRegion\n",
    "from specutils import SpectrumList\n",
    "\n",
    "from scipy.optimize import curve_fit\n",
    "\n",
    "\n",
    "\n",
    "from jdaviz import Imviz, Specviz, Cubeviz\n",
    "from jdaviz.app import Application\n",
    "imviz = Imviz()\n",
    "specviz = Specviz()\n",
    "cubeviz = Cubeviz()\n",
    "\n"
   ]
  },
  {
   "cell_type": "markdown",
   "id": "bae3caa0",
   "metadata": {},
   "source": [
    "## Imviz\n"
   ]
  },
  {
   "cell_type": "markdown",
   "id": "cfe564ee",
   "metadata": {},
   "source": [
    "#### To import JWST images\n",
    "Find images as .fits files on https://mast.stsci.edu/portal/Mashup/Clients/Mast/Portal.html\n",
    "\n",
    "##### Put .fits files into fits directory, run cell below."
   ]
  },
  {
   "cell_type": "code",
   "execution_count": null,
   "id": "3fd8ae6e",
   "metadata": {},
   "outputs": [],
   "source": [
    "all_fits = []\n",
    "\n",
    "all_fits_init = glob.glob('./fits/*.fits')\n",
    "for file in all_fits_init:\n",
    "    newfile = file.replace('\\\\','/')\n",
    "    all_fits.append(newfile)\n",
    "print(all_fits)"
   ]
  },
  {
   "cell_type": "markdown",
   "id": "0d596e48",
   "metadata": {},
   "source": [
    "#### Loading Data\n",
    "Run this cell to load JWST images into Imviz, the in-house software for processing post-pipeline JWST images. Can modify cuts factor here (percentage), generally the higher the better. The second cell will link the fits files by their WCS coords. Once the data is loaded you can run the third cell to open the Imviz GUI."
   ]
  },
  {
   "cell_type": "code",
   "execution_count": null,
   "id": "c62fb2b5",
   "metadata": {},
   "outputs": [],
   "source": [
    "with imviz.batch_load():\n",
    "    for file in all_fits:\n",
    "        imviz.load_data(file)\n",
    "        print(file,' loaded')\n",
    "    print('All files loaded!')\n",
    "\n",
    "imviz.link_data(link_type='wcs')\n",
    "viewer = imviz.default_viewer\n",
    "viewer.cuts = '99%'\n",
    "imviz.show()"
   ]
  },
  {
   "cell_type": "markdown",
   "id": "f8efda5e",
   "metadata": {
    "scrolled": true
   },
   "source": [
    "#### Processing Options\n",
    "\n"
   ]
  },
  {
   "cell_type": "code",
   "execution_count": null,
   "id": "26644d79",
   "metadata": {},
   "outputs": [],
   "source": [
    "print(viewer.colormap_options)\n",
    "viewer.set_colormap('Gray')"
   ]
  },
  {
   "cell_type": "code",
   "execution_count": null,
   "id": "58eae0a8",
   "metadata": {},
   "outputs": [],
   "source": [
    "filename = input('Type name of file: ')+'.png'\n",
    "print(filename)\n",
    "viewer.save(filename)"
   ]
  },
  {
   "cell_type": "code",
   "execution_count": null,
   "id": "6f171562",
   "metadata": {},
   "outputs": [],
   "source": []
  }
 ],
 "metadata": {
  "kernelspec": {
   "display_name": "Python 3 (ipykernel)",
   "language": "python",
   "name": "python3"
  },
  "language_info": {
   "codemirror_mode": {
    "name": "ipython",
    "version": 3
   },
   "file_extension": ".py",
   "mimetype": "text/x-python",
   "name": "python",
   "nbconvert_exporter": "python",
   "pygments_lexer": "ipython3",
   "version": "3.11.4"
  }
 },
 "nbformat": 4,
 "nbformat_minor": 5
}
