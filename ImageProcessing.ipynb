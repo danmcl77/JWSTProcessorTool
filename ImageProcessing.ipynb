{
 "cells": [
  {
   "cell_type": "markdown",
   "id": "7c51402d",
   "metadata": {},
   "source": [
    "## Imports"
   ]
  },
  {
   "cell_type": "code",
   "execution_count": 1,
   "id": "12b25c9b",
   "metadata": {},
   "outputs": [],
   "source": [
    "import matplotlib.pyplot as plt\n",
    "import numpy as np\n",
    "%matplotlib inline\n",
    "\n",
    "import os\n",
    "import re\n",
    "import sys\n",
    "import time\n",
    "import json\n",
    "import glob\n",
    "import pickle\n",
    "import requests\n",
    "import cv2\n",
    "\n",
    "from PIL import Image\n",
    "from copy import copy\n",
    "from urllib.parse import quote as urlencode\n",
    "import pprint\n",
    "pp = pprint.PrettyPrinter(indent=4)\n",
    "\n",
    "from ipywidgets import FileUpload\n",
    "from IPython.display import display\n",
    "\n",
    "import astropy\n",
    "from astropy import units as u\n",
    "from astropy.io import fits, ascii\n",
    "from astropy.wcs import WCS\n",
    "from astropy.modeling import models\n",
    "from astropy.table import Table, vstack\n",
    "from astropy.stats import sigma_clipped_stats\n",
    "from astropy.nddata import StdDevUncertainty\n",
    "from astropy.coordinates import SkyCoord, Angle\n",
    "from astropy.utils.data import download_file, get_pkg_data_filename\n",
    "from astropy.visualization import make_lupton_rgb\n",
    "\n",
    "import aplpy\n",
    "\n",
    "\n",
    "from photutils.aperture import CircularAperture, SkyCircularAperture\n",
    "from photutils.detection import DAOStarFinder\n",
    "\n",
    "from regions import PixCoord, CirclePixelRegion, CircleSkyRegion\n",
    "\n",
    "from specutils import Spectrum1D\n",
    "from specutils import SpectrumList\n",
    "from specutils.spectra import SpectralRegion\n",
    "from specutils.fitting import fit_generic_continuum, fit_lines\n",
    "from specutils.analysis import line_flux, centroid, equivalent_width\n",
    "from specutils.manipulation import box_smooth, extract_region, SplineInterpolatedResampler\n",
    "\n",
    "from scipy.optimize import curve_fit\n",
    "\n",
    "\n",
    "\n",
    "\n",
    "\n",
    "from jdaviz import Imviz, Specviz, Cubeviz\n",
    "from jdaviz.app import Application\n",
    "imviz = Imviz()\n",
    "specviz = Specviz()\n",
    "cubeviz = Cubeviz()\n",
    "\n"
   ]
  },
  {
   "cell_type": "markdown",
   "id": "bae3caa0",
   "metadata": {},
   "source": [
    "## Imviz\n"
   ]
  },
  {
   "cell_type": "markdown",
   "id": "cfe564ee",
   "metadata": {},
   "source": [
    "#### To import JWST images\n",
    "Find images as .fits files on https://mast.stsci.edu/portal/Mashup/Clients/Mast/Portal.html\n",
    "\n",
    "##### If you already downloaded the fits files, put them into fits directory."
   ]
  },
  {
   "cell_type": "markdown",
   "id": "320aff4c",
   "metadata": {},
   "source": [
    "#### Or alternatively, use MAST API to acquire them right here!\n",
    "The code below when run in order will take a target identifier as input and request its coordinates from the MAST database.\n",
    "\n",
    "Following this, all logged observations can be filtered by telescope/detector name and selected for download.\n",
    "\n",
    "If you have already manually acquired your fits files you can place them in a directory entitled 'fits' in the same folder as this notebook and skip to the section labelled 'Loading Data'"
   ]
  },
  {
   "cell_type": "markdown",
   "id": "ef90db3c",
   "metadata": {},
   "source": [
    "### API Code\n",
    "This cell defines the MAST query function for communicating with the MAST API"
   ]
  },
  {
   "cell_type": "code",
   "execution_count": 2,
   "id": "4f5ccf76",
   "metadata": {},
   "outputs": [],
   "source": [
    "#from https://mast.stsci.edu/api/v0/MastApiTutorial.html\n",
    "\n",
    "def mast_query(request):\n",
    "    \"\"\"Perform a MAST query.\n",
    "    \n",
    "        Parameters\n",
    "        ----------\n",
    "        request (dictionary): The MAST request json object\n",
    "        \n",
    "        Returns head,content where head is the response HTTP headers, and content is the returned data\"\"\"\n",
    "    \n",
    "    # Base API url\n",
    "    request_url='https://mast.stsci.edu/api/v0/invoke'    \n",
    "    \n",
    "    # Grab Python Version \n",
    "    version = \".\".join(map(str, sys.version_info[:3]))\n",
    "\n",
    "    # Create Http Header Variables\n",
    "    headers = {\"Content-type\": \"application/x-www-form-urlencoded\",\n",
    "               \"Accept\": \"text/plain\",\n",
    "               \"User-agent\":\"python-requests/\"+version}\n",
    "\n",
    "    # Encoding the request as a json string\n",
    "    req_string = json.dumps(request)\n",
    "    req_string = urlencode(req_string)\n",
    "    \n",
    "    # Perform the HTTP request\n",
    "    resp = requests.post(request_url, data=\"request=\"+req_string, headers=headers)\n",
    "    \n",
    "    # Pull out the headers and response content\n",
    "    head = resp.headers\n",
    "    content = resp.content.decode('utf-8')\n",
    "\n",
    "    return head, content\n",
    "\n",
    "\n"
   ]
  },
  {
   "cell_type": "markdown",
   "id": "5965ca36",
   "metadata": {},
   "source": [
    "Run this cell to enter target name and receive coordinates"
   ]
  },
  {
   "cell_type": "code",
   "execution_count": 3,
   "id": "333bcfef",
   "metadata": {},
   "outputs": [
    {
     "name": "stdout",
     "output_type": "stream",
     "text": [
      "Object of Interest (eg. Messier Catalog designation etc): NGC 7009\n",
      "{'resolvedCoordinate': [{'searchString': 'ngc 7009', 'resolver': 'SIMBADCFA', 'cached': True, 'resolverTime': 91, 'cacheDate': 'Feb 23, 2023, 11:06:51 AM', 'searchRadius': -1.0, 'canonicalName': 'NGC  7009', 'ra': 316.04506466152, 'decl': -11.36349448821, 'radius': 0.005891666666666667, 'majorAxis': 0.011783333333333333, 'minorAxis': 0.008716666666666668, 'positionAngle': 70.0, 'objectType': 'PlanetaryNeb'}], 'status': ''}\n",
      "Object Type    :  PlanetaryNeb\n",
      "Right Ascension:  316.04506466152\n",
      "Declination    :  -11.36349448821\n"
     ]
    }
   ],
   "source": [
    "#returns RA, Dec from target identifier\n",
    "object_of_interest = input('Object of Interest (eg. Messier Catalog designation etc): ')\n",
    "\n",
    "resolver_request = {'service':'Mast.Name.Lookup',\n",
    "                     'params':{'input':object_of_interest,\n",
    "                               'format':'json'},\n",
    "                     }\n",
    "\n",
    "headers, resolved_object_string = mast_query(resolver_request)\n",
    "\n",
    "resolved_object = json.loads(resolved_object_string)\n",
    "\n",
    "print(resolved_object)\n",
    "\n",
    "obj_type = resolved_object['resolvedCoordinate'][0]['objectType']\n",
    "obj_ra = resolved_object['resolvedCoordinate'][0]['ra']\n",
    "obj_dec = resolved_object['resolvedCoordinate'][0]['decl']\n",
    "\n",
    "print('Object Type    : ',obj_type)\n",
    "print('Right Ascension: ',obj_ra)\n",
    "print('Declination    : ',obj_dec)\n"
   ]
  },
  {
   "cell_type": "markdown",
   "id": "5dc2f683",
   "metadata": {},
   "source": [
    "These next cells get the data for all observations of your selected target"
   ]
  },
  {
   "cell_type": "code",
   "execution_count": 4,
   "id": "039e85f9",
   "metadata": {},
   "outputs": [
    {
     "name": "stdout",
     "output_type": "stream",
     "text": [
      "Enter number of rows to return: 2000\n",
      "{   '_selected_': None,\n",
      "    'calib_level': 2,\n",
      "    'dataRights': 'PUBLIC',\n",
      "    'dataURL': 'http://archive.stsci.edu/missions/swift_uvot/00084871/00084871002/sw00084871002uw1_sk.img',\n",
      "    'dataproduct_type': 'cube',\n",
      "    'distance': 0,\n",
      "    'em_max': 457000000000,\n",
      "    'em_min': 160900000000,\n",
      "    'filters': 'UVW1',\n",
      "    'instrument_name': 'UVOT',\n",
      "    'intentType': 'science',\n",
      "    'jpegURL': 'http://archive.stsci.edu/cgi-bin/hla/fitscut.cgi?red=sw00084871002uw1[1]&size=ALL&output_size=1208',\n",
      "    'mtFlag': None,\n",
      "    'obs_collection': 'SWIFT',\n",
      "    'obs_id': '00084871002',\n",
      "    'obs_title': None,\n",
      "    'obsid': 1550645,\n",
      "    'project': None,\n",
      "    'proposal_id': None,\n",
      "    'proposal_pi': None,\n",
      "    'proposal_type': None,\n",
      "    'provenance_name': None,\n",
      "    's_dec': -11.228804032658,\n",
      "    's_ra': 315.97336483938,\n",
      "    's_region': 'POLYGON -43.914115999999979 -11.394022 -43.841175000000021 '\n",
      "                '-11.124581 -43.959989000000007 -11.092 -44.108047 -11.059367 '\n",
      "                '-44.184348 -11.325953 -44.060058000000026 -11.361133 '\n",
      "                '-43.914115999999979 -11.394022 -43.914115999999979 -11.394022',\n",
      "    'sequence_number': -999,\n",
      "    'srcDen': 5885,\n",
      "    't_exptime': 1307.02144102658,\n",
      "    't_max': 57187.5194097,\n",
      "    't_min': 57187.5040394,\n",
      "    't_obs_release': None,\n",
      "    'target_classification': None,\n",
      "    'target_name': '3FGLJ2103.7-1113',\n",
      "    'wavelength_region': 'UV;OPTICAL'}\n"
     ]
    }
   ],
   "source": [
    "rownum = eval(input('Enter number of rows to return: '))\n",
    "\n",
    "mast_request = {'service':'Mast.Caom.Cone',\n",
    "                'params':{'ra':obj_ra,\n",
    "                          'dec':obj_dec,\n",
    "                          'radius':0.2},\n",
    "                'format':'json',\n",
    "                'pagesize':rownum,\n",
    "                'page':1,\n",
    "                'removenullcolumns':True,\n",
    "                'removecache':True}\n",
    "\n",
    "headers, mast_data_str = mast_query(mast_request)\n",
    "\n",
    "mast_data = json.loads(mast_data_str)\n",
    "\n",
    "pp.pprint(mast_data['data'][0])"
   ]
  },
  {
   "cell_type": "code",
   "execution_count": null,
   "id": "d466810a",
   "metadata": {},
   "outputs": [],
   "source": [
    "#Trying something here IGNORE THIS CELL\n",
    "\n",
    "mashup_request = {\"service\":\"Mast.JWST.Filtered.NIRCAM\",\n",
    "                 \"format\":\"json\",\n",
    "                 \"params\":{\n",
    "                     \"columns\":\"*\",\n",
    "                     \"filters\":[\n",
    "                         {\"paramName\":\"ra\",\n",
    "                          \"values\":[obj_ra]\n",
    "                         },\n",
    "                         {\"paramName\":\"dec\",\n",
    "                          \"values\":[obj_dec] \n",
    "                         }\n",
    "                         \n",
    "                     ]}}\n",
    "    \n",
    "headers, out_string = mast_query(mashup_request)\n",
    "mast_data = json.loads(out_string)\n",
    "\n",
    "print(mast_data.keys())\n",
    "print(\"Query status:\", mast_data['status'])"
   ]
  },
  {
   "cell_type": "code",
   "execution_count": 5,
   "id": "344fca6b",
   "metadata": {},
   "outputs": [
    {
     "name": "stdout",
     "output_type": "stream",
     "text": [
      "intentType obs_collection provenance_name ...      distance      _selected_\n",
      "---------- -------------- --------------- ... ------------------ ----------\n",
      "   science          SWIFT            None ...                0.0      False\n",
      "   science          SWIFT            None ...                0.0      False\n",
      "   science          SWIFT            None ...                0.0      False\n",
      "   science          SWIFT            None ...                0.0      False\n",
      "   science          SWIFT            None ... 126.62292905303015      False\n",
      "   science          SWIFT            None ...  462.0538507266058      False\n",
      "   science          SWIFT            None ...  581.9180664225557      False\n",
      "   science    SPITZER_SHA    SSC Pipeline ...                0.0      False\n",
      "   science    SPITZER_SHA    SSC Pipeline ...                0.0      False\n",
      "   science    SPITZER_SHA    SSC Pipeline ...                0.0      False\n",
      "       ...            ...             ... ...                ...        ...\n",
      "   science           FUSE            None ...                0.0      False\n",
      "   science           FUSE            None ...                0.0      False\n",
      "   science           FUSE            None ...                0.0      False\n",
      "   science           FUSE            None ...                0.0      False\n",
      "   science           FUSE            None ...                0.0      False\n",
      "   science           FUSE            None ...                0.0      False\n",
      "   science           FUSE            None ...                0.0      False\n",
      "   science           FUSE            None ...                0.0      False\n",
      "   science           FUSE            None ... 1.1807396222171367      False\n",
      "   science           FUSE            None ... 1.1807396222171367      False\n",
      "   science           BEFS            None ...                0.0      False\n",
      "Length = 504 rows\n"
     ]
    }
   ],
   "source": [
    "mast_data_table = Table()\n",
    "\n",
    "for col,atype in [(x['name'],x['type']) for x in mast_data['fields']]:\n",
    "    if atype==\"string\":\n",
    "        atype=\"str\"\n",
    "    if atype==\"boolean\":\n",
    "        atype=\"bool\"\n",
    "    mast_data_table[col] = np.array([x.get(col,None) for x in mast_data['data']],dtype=atype)\n",
    "    \n",
    "print(mast_data_table)"
   ]
  },
  {
   "cell_type": "markdown",
   "id": "7dfd262d",
   "metadata": {},
   "source": [
    "Run the next cell to select instrument/telescope collection, then choose dataproducts you wish to prime for download. Bear in mind some JWST targets that have been observed may not have been made available to the public yet!"
   ]
  },
  {
   "cell_type": "code",
   "execution_count": 19,
   "id": "fd82a759",
   "metadata": {},
   "outputs": [
    {
     "name": "stdout",
     "output_type": "stream",
     "text": [
      "Choose instrument/collection (eg. HST, JWST): HST\n",
      "167 matching collection pieces found\n",
      "0 : ['image', 'HST', 'STIS/CCD', 'MIRVIS']\n",
      "1 : ['image', 'HST', 'STIS/CCD', 'MIRVIS']\n",
      "2 : ['image', 'HST', 'STIS/CCD', 'MIRVIS']\n",
      "3 : ['image', 'HST', 'WFPC2/PC', 'F814W']\n",
      "4 : ['image', 'HST', 'WFPC2/PC', 'F814W']\n",
      "5 : ['image', 'HST', 'WFPC2/PC', 'F814W']\n",
      "6 : ['image', 'HST', 'WFPC2/PC', 'F555W']\n",
      "7 : ['image', 'HST', 'WFPC2/PC', 'F555W']\n",
      "8 : ['image', 'HST', 'WFPC2/PC', 'F555W']\n",
      "9 : ['image', 'HST', 'WFPC2/WFC', 'F487N']\n",
      "10 : ['image', 'HST', 'WFPC2/WFC', 'F487N']\n",
      "11 : ['image', 'HST', 'WFPC2/WFC', 'F437N']\n",
      "12 : ['image', 'HST', 'WFPC2/WFC', 'F437N']\n",
      "13 : ['image', 'HST', 'WFPC2/WFC', 'F437N']\n",
      "14 : ['image', 'HST', 'WFPC2/WFC', 'F502N']\n",
      "15 : ['image', 'HST', 'WFPC2/WFC', 'F502N']\n",
      "16 : ['image', 'HST', 'WFPC2/WFC', 'F547M']\n",
      "17 : ['image', 'HST', 'WFPC2/WFC', 'F547M']\n",
      "18 : ['image', 'HST', 'WFPC2/WFC', 'F656N']\n",
      "19 : ['image', 'HST', 'WFPC2/WFC', 'F656N']\n",
      "20 : ['image', 'HST', 'WFPC2/PC', 'F502N']\n",
      "21 : ['image', 'HST', 'WFPC2/PC', 'F658N']\n",
      "22 : ['image', 'HST', 'WFPC2/PC', 'F658N']\n",
      "23 : ['image', 'HST', 'WFPC2/PC', 'F658N']\n",
      "24 : ['image', 'HST', 'WFPC2/PC', 'F658N']\n",
      "25 : ['image', 'HST', 'WFPC2/PC', 'F555W']\n",
      "26 : ['image', 'HST', 'WFPC2/PC', 'F555W']\n",
      "27 : ['image', 'HST', 'WFPC2/PC', 'F502N']\n",
      "28 : ['image', 'HST', 'WFPC2/PC', 'F658N']\n",
      "29 : ['image', 'HST', 'WFPC2/PC', 'F658N']\n",
      "30 : ['image', 'HST', 'WFPC2/PC', 'F658N']\n",
      "31 : ['image', 'HST', 'WFPC2/PC', 'F658N']\n",
      "32 : ['image', 'HST', 'WFPC2/PC', 'F555W']\n",
      "33 : ['image', 'HST', 'WFPC2/PC', 'F555W']\n",
      "34 : ['image', 'HST', 'WFPC2', 'F785LP']\n",
      "35 : ['image', 'HST', 'WFPC2', 'F785LP']\n",
      "36 : ['image', 'HST', 'WFPC2', 'F785LP']\n",
      "37 : ['image', 'HST', 'WFPC2', 'F785LP']\n",
      "38 : ['image', 'HST', 'WFPC2', 'F814W']\n",
      "39 : ['image', 'HST', 'WFPC2', 'F814W']\n",
      "40 : ['image', 'HST', 'WFPC2', 'F814W']\n",
      "41 : ['image', 'HST', 'WFPC2', 'F814W']\n",
      "42 : ['image', 'HST', 'WFPC2', 'F1042M']\n",
      "43 : ['image', 'HST', 'WFPC2', 'F1042M']\n",
      "44 : ['image', 'HST', 'WFPC2', 'F1042M']\n",
      "45 : ['image', 'HST', 'WFPC2', 'F1042M']\n",
      "46 : ['image', 'HST', 'WFPC2', 'F1042M;F437N']\n",
      "47 : ['image', 'HST', 'WFPC2', 'F1042M;F437N']\n",
      "48 : ['image', 'HST', 'WFPC2', 'F1042M;F437N']\n",
      "49 : ['image', 'HST', 'WFPC2/PC', 'F502N']\n",
      "50 : ['image', 'HST', 'WFPC2/PC', 'F502N']\n",
      "51 : ['image', 'HST', 'WFPC2/PC', 'F656N']\n",
      "52 : ['image', 'HST', 'WFPC2/PC', 'F658N']\n",
      "53 : ['image', 'HST', 'WFPC2/PC', 'F658N']\n",
      "54 : ['image', 'HST', 'WFPC2/PC', 'F658N']\n",
      "55 : ['image', 'HST', 'WFPC/PC', 'F785LP']\n",
      "56 : ['spectrum', 'HST', 'STIS/CCD', 'G750M']\n",
      "57 : ['spectrum', 'HST', 'STIS/CCD', 'G750M']\n",
      "58 : ['spectrum', 'HST', 'STIS/CCD', 'G430M']\n",
      "59 : ['spectrum', 'HST', 'STIS/CCD', 'G430M']\n",
      "60 : ['spectrum', 'HST', 'STIS/CCD', 'G430M']\n",
      "61 : ['spectrum', 'HST', 'STIS/CCD', 'G430M']\n",
      "62 : ['spectrum', 'HST', 'STIS/CCD', 'G430M']\n",
      "63 : ['spectrum', 'HST', 'STIS/CCD', 'G430M']\n",
      "64 : ['spectrum', 'HST', 'STIS/CCD', 'G750M']\n",
      "65 : ['spectrum', 'HST', 'STIS/CCD', 'G750M']\n",
      "66 : ['spectrum', 'HST', 'STIS/CCD', 'G430M']\n",
      "67 : ['spectrum', 'HST', 'STIS/CCD', 'G430M']\n",
      "68 : ['spectrum', 'HST', 'STIS/CCD', 'G430M']\n",
      "69 : ['spectrum', 'HST', 'STIS/CCD', 'G430M']\n",
      "70 : ['spectrum', 'HST', 'STIS/CCD', 'G430M']\n",
      "71 : ['spectrum', 'HST', 'STIS/CCD', 'G430M']\n",
      "72 : ['spectrum', 'HST', 'STIS/NUV-MAMA', 'G230M']\n",
      "73 : ['spectrum', 'HST', 'STIS/NUV-MAMA', 'G230M']\n",
      "74 : ['spectrum', 'HST', 'STIS/NUV-MAMA', 'G230M']\n",
      "75 : ['spectrum', 'HST', 'STIS/NUV-MAMA', 'G230M']\n",
      "76 : ['spectrum', 'HST', 'STIS/NUV-MAMA', 'G230M']\n",
      "77 : ['spectrum', 'HST', 'STIS/FUV-MAMA', 'G140M']\n",
      "78 : ['spectrum', 'HST', 'STIS/FUV-MAMA', 'G140M']\n",
      "79 : ['spectrum', 'HST', 'STIS/FUV-MAMA', 'G140M']\n",
      "80 : ['spectrum', 'HST', 'STIS/NUV-MAMA', 'G230M']\n",
      "81 : ['spectrum', 'HST', 'STIS/NUV-MAMA', 'G230M']\n",
      "82 : ['spectrum', 'HST', 'STIS/NUV-MAMA', 'G230M']\n",
      "83 : ['spectrum', 'HST', 'STIS/NUV-MAMA', 'G230M']\n",
      "84 : ['spectrum', 'HST', 'STIS/NUV-MAMA', 'G230M']\n",
      "85 : ['spectrum', 'HST', 'STIS/FUV-MAMA', 'G140M']\n",
      "86 : ['spectrum', 'HST', 'STIS/FUV-MAMA', 'G140M']\n",
      "87 : ['spectrum', 'HST', 'STIS/NUV-MAMA', 'G230M']\n",
      "88 : ['spectrum', 'HST', 'STIS/NUV-MAMA', 'G230M']\n",
      "89 : ['spectrum', 'HST', 'STIS/NUV-MAMA', 'G230M']\n",
      "90 : ['spectrum', 'HST', 'STIS/CCD', 'G430M']\n",
      "91 : ['spectrum', 'HST', 'STIS/CCD', 'G430M']\n",
      "92 : ['spectrum', 'HST', 'STIS/NUV-MAMA', 'G230M']\n",
      "93 : ['spectrum', 'HST', 'STIS/NUV-MAMA', 'G230M']\n",
      "94 : ['spectrum', 'HST', 'STIS/CCD', 'G430M']\n",
      "95 : ['spectrum', 'HST', 'STIS/CCD', 'G430M']\n",
      "96 : ['spectrum', 'HST', 'STIS/NUV-MAMA', 'G230M']\n",
      "97 : ['spectrum', 'HST', 'STIS/NUV-MAMA', 'G230M']\n",
      "98 : ['image', 'HST', 'WFPC2/PC', 'F375N']\n",
      "99 : ['image', 'HST', 'WFPC2/PC', 'F469N']\n",
      "100 : ['image', 'HST', 'WFPC2/PC', 'F502N']\n",
      "101 : ['image', 'HST', 'WFPC2/PC', 'F656N']\n",
      "102 : ['image', 'HST', 'WFPC2/PC', 'F631N']\n",
      "103 : ['image', 'HST', 'WFPC2/PC', 'F631N']\n",
      "104 : ['image', 'HST', 'WFPC2/PC', 'F631N']\n",
      "105 : ['image', 'HST', 'WFPC2/PC', 'F658N']\n",
      "106 : ['image', 'HST', 'WFPC2/PC', 'F658N']\n",
      "107 : ['image', 'HST', 'WFPC2/PC', 'F658N']\n",
      "108 : ['image', 'HST', 'WFPC2/PC', 'F673N']\n",
      "109 : ['image', 'HST', 'WFPC2/PC', 'F673N']\n",
      "110 : ['image', 'HST', 'WFPC2/PC', 'F673N']\n",
      "111 : ['image', 'HST', 'STIS/CCD', 'MIRVIS']\n",
      "112 : ['spectrum', 'HST', 'STIS/CCD', 'G750L']\n",
      "113 : ['image', 'HST', 'STIS/CCD', 'MIRVIS']\n",
      "114 : ['image', 'HST', 'STIS/CCD', 'MIRVIS']\n",
      "115 : ['image', 'HST', 'STIS/CCD', 'MIRVIS']\n",
      "116 : ['image', 'HST', 'STIS/CCD', 'MIRVIS']\n",
      "117 : ['image', 'HST', 'STIS/CCD', 'MIRVIS']\n",
      "118 : ['image', 'HST', 'STIS/CCD', 'MIRVIS']\n",
      "119 : ['image', 'HST', 'STIS/CCD', 'MIRVIS']\n",
      "120 : ['image', 'HST', 'STIS/CCD', 'MIRVIS']\n",
      "121 : ['image', 'HST', 'STIS/CCD', 'MIRVIS']\n",
      "122 : ['image', 'HST', 'STIS/CCD', 'MIRVIS']\n",
      "123 : ['image', 'HST', 'STIS/CCD', 'MIRVIS']\n",
      "124 : ['image', 'HST', 'WFPC2/WFC', 'F300W']\n",
      "125 : ['image', 'HST', 'WFPC2', 'F1042M;F437N']\n",
      "126 : ['image', 'HST', 'WFPC2/WFC', 'F606W']\n",
      "127 : ['image', 'HST', 'WFPC2/WFC', 'F606W']\n",
      "128 : ['image', 'HST', 'WFPC2/WFC', 'F300W']\n",
      "129 : ['image', 'HST', 'WFPC2/WFC', 'F300W']\n",
      "130 : ['image', 'HST', 'WFPC2/WFC', 'F300W']\n",
      "131 : ['image', 'HST', 'WFPC2/WFC', 'F606W']\n",
      "132 : ['image', 'HST', 'WFPC2/WFC', 'F606W']\n",
      "133 : ['image', 'HST', 'WFPC2/WFC', 'F300W']\n",
      "134 : ['image', 'HST', 'WFPC2/WFC', 'F300W']\n",
      "135 : ['image', 'HST', 'WFPC2/WFC', 'F300W']\n",
      "136 : ['image', 'HST', 'WFPC2/WFC', 'F606W']\n",
      "137 : ['image', 'HST', 'WFPC2/WFC', 'F606W']\n",
      "138 : ['image', 'HST', 'WFPC2/WFC', 'F450W']\n",
      "139 : ['image', 'HST', 'WFPC2/WFC', 'F300W']\n",
      "140 : ['image', 'HST', 'WFPC2', 'F1042M;F437N']\n",
      "141 : ['image', 'HST', 'WFPC2', 'F1042M;F437N']\n",
      "142 : ['image', 'HST', 'WFPC2/WFC', 'F450W']\n",
      "143 : ['image', 'HST', 'WFPC2/WFC', 'F300W']\n",
      "144 : ['image', 'HST', 'STIS/CCD', 'MIRVIS']\n",
      "145 : ['spectrum', 'HST', 'STIS/CCD', 'G750L']\n",
      "146 : ['image', 'HST', 'STIS/CCD', 'MIRVIS']\n",
      "147 : ['image', 'HST', 'STIS/CCD', 'MIRVIS']\n",
      "148 : ['image', 'HST', 'STIS/CCD', 'MIRVIS']\n",
      "149 : ['image', 'HST', 'STIS/CCD', 'MIRVIS']\n",
      "150 : ['image', 'HST', 'STIS/CCD', 'MIRVIS']\n",
      "151 : ['image', 'HST', 'STIS/CCD', 'MIRVIS']\n",
      "152 : ['image', 'HST', 'STIS/CCD', 'MIRVIS']\n",
      "153 : ['image', 'HST', 'STIS/CCD', 'MIRVIS']\n",
      "154 : ['image', 'HST', 'STIS/CCD', 'MIRVIS']\n",
      "155 : ['image', 'HST', 'STIS/CCD', 'MIRVIS']\n",
      "156 : ['image', 'HST', 'STIS/CCD', 'MIRVIS']\n",
      "157 : ['image', 'HST', 'STIS/CCD', 'MIRVIS']\n",
      "158 : ['image', 'HST', 'STIS/CCD', 'MIRVIS']\n",
      "159 : ['image', 'HST', 'STIS/CCD', 'MIRVIS']\n",
      "160 : ['image', 'HST', 'STIS/CCD', 'MIRVIS']\n",
      "161 : ['spectrum', 'HST', 'STIS/NUV-MAMA', 'E230M']\n",
      "162 : ['spectrum', 'HST', 'STIS/NUV-MAMA', 'E230M']\n",
      "163 : ['image', 'HST', 'NICMOS/NIC3', 'BLANK']\n",
      "164 : ['image', 'HST', 'NICMOS/NIC3', 'BLANK']\n",
      "165 : ['image', 'HST', 'NICMOS/NIC1', 'BLANK']\n",
      "166 : ['image', 'HST', 'NICMOS/NIC2', 'BLANK']\n",
      "Please pick one: 3\n"
     ]
    }
   ],
   "source": [
    "inst = input('Choose instrument/collection (eg. HST, JWST): ')\n",
    "\n",
    "interesting_observations = mast_data_table[mast_data_table[\"obs_collection\"] == inst]\n",
    "\n",
    "\n",
    "print(len(interesting_observations), \"matching collection pieces found\")\n",
    "for i in range(0, len(interesting_observations)):\n",
    "    print(i,\":\",[interesting_observations[i][x] for x in ['dataproduct_type', 'obs_collection', 'instrument_name','filters']])\n",
    "\n",
    "if len(interesting_observations) > 0:\n",
    "    selection = int(input(\"Please pick one: \"))"
   ]
  },
  {
   "cell_type": "markdown",
   "id": "74242ad4",
   "metadata": {},
   "source": [
    "The next cells retrieve your chosen dataproducts and provide a list of all files you can download."
   ]
  },
  {
   "cell_type": "code",
   "execution_count": 20,
   "id": "d3d16964",
   "metadata": {},
   "outputs": [
    {
     "name": "stdout",
     "output_type": "stream",
     "text": [
      "Number of data products: 32\n",
      "[   'PREVIEW',\n",
      "    'SCIENCE',\n",
      "    'PREVIEW',\n",
      "    'SCIENCE',\n",
      "    'PREVIEW',\n",
      "    'SCIENCE',\n",
      "    'CATALOG',\n",
      "    'CATALOG',\n",
      "    'PREVIEW',\n",
      "    'SCIENCE']\n"
     ]
    }
   ],
   "source": [
    "\n",
    "\n",
    "obsid = interesting_observations[selection]['obsid']\n",
    "\n",
    "product_request = {'service':'Mast.Caom.Products',\n",
    "                  'params':{'obsid':obsid},\n",
    "                  'format':'json',\n",
    "                  'pagesize':100,\n",
    "                  'page':1}   \n",
    "\n",
    "headers, obs_products_string = mast_query(product_request)\n",
    "\n",
    "obs_products = json.loads(obs_products_string)\n",
    "\n",
    "print(\"Number of data products:\", len(obs_products[\"data\"]))\n",
    "#print(\"Product information column names:\")\n",
    "#pp.pprint(obs_products['fields'])\n",
    "\n",
    "pp.pprint([x.get('productType',\"\") for x in obs_products[\"data\"][:10]])\n",
    "\n"
   ]
  },
  {
   "cell_type": "code",
   "execution_count": 21,
   "id": "178a394c",
   "metadata": {},
   "outputs": [
    {
     "name": "stdout",
     "output_type": "stream",
     "text": [
      "Number of science products: 10\n",
      " obsID   obs_collection dataproduct_type ... dataRights calib_level _selected_\n",
      "-------- -------------- ---------------- ... ---------- ----------- ----------\n",
      "25586931            HLA            image ...     PUBLIC         3.0      False\n",
      "25165361            HLA            image ...     PUBLIC         2.0      False\n",
      "25165364            HLA            image ...     PUBLIC         2.0      False\n",
      "25586934            HLA            image ...     PUBLIC         3.0      False\n",
      "24562767            HST            image ...     PUBLIC         2.0      False\n",
      "24562767            HST            image ...     PUBLIC         2.0      False\n",
      "24562767            HST            image ...     PUBLIC         1.0      False\n",
      "24562767            HST            image ...     PUBLIC         1.0      False\n",
      "24562767            HST            image ...     PUBLIC         2.0      False\n",
      "24562767            HST            image ...     PUBLIC         2.0      False\n"
     ]
    }
   ],
   "source": [
    "sci_prod_arr = [x for x in obs_products['data'] if x.get(\"productType\", None) == 'SCIENCE']\n",
    "science_products = Table()\n",
    "\n",
    "for col, atype in [(x['name'], x['type']) for x in obs_products['fields']]:\n",
    "    if atype==\"string\":\n",
    "        atype=\"str\"\n",
    "    if atype==\"boolean\":\n",
    "        atype=\"bool\"\n",
    "    if atype == \"int\":\n",
    "        atype = \"float\" # array may contain nan values, and they do not exist in numpy integer arrays\n",
    "    science_products[col] = np.array([x.get(col,None) for x in sci_prod_arr],dtype=atype)\n",
    "\n",
    "print(\"Number of science products:\",len(science_products))\n",
    "print(science_products)"
   ]
  },
  {
   "cell_type": "markdown",
   "id": "81cc9f83",
   "metadata": {},
   "source": [
    "Finally, you will be prompted on each product whether you want to download them or not. This helps screen out superfluous files like star catalog csvs if you do not wish to have them."
   ]
  },
  {
   "cell_type": "code",
   "execution_count": 22,
   "id": "7d51c27b",
   "metadata": {},
   "outputs": [
    {
     "name": "stdout",
     "output_type": "stream",
     "text": [
      "Download hst_06119_95_wfpc2_f814w_pc_drz.fits 12.06144 MB ? y/n\n",
      "y\n",
      "COMPLETE:  fits\\HLA\\hst_06119_95_wfpc2_f814w_pc\\hst_06119_95_wfpc2_f814w_pc_drz.fits\n",
      "Download hst_06119_95_wfpc2_f814w_pc_01_drz.fits 4.032 MB ? y/n\n",
      "n\n",
      "Download hst_06119_95_wfpc2_f814w_wf_01_drz.fits 16.848 MB ? y/n\n",
      "n\n",
      "Download hst_06119_95_wfpc2_total_wf_drz.fits 50.54112 MB ? y/n\n",
      "n\n",
      "Download u2sa9501m_c0m.fits 10.30752 MB ? y/n\n",
      "n\n",
      "Download u2sa9501m_c1m.fits 5.17824 MB ? y/n\n",
      "n\n",
      "Download u2sa9501m_d0f.fits 5.184 MB ? y/n\n",
      "n\n",
      "Download u2sa9501m_d0m.fits 5.17824 MB ? y/n\n",
      "n\n",
      "Download u2sa9501m_c0f.fits 10.30752 MB ? y/n\n",
      "n\n",
      "Download u2sa9501m_c1f.fits 5.184 MB ? y/n\n",
      "n\n"
     ]
    }
   ],
   "source": [
    "download_url = 'https://mast.stsci.edu/api/v0.1/Download/file?'\n",
    "\n",
    "for row in science_products:     \n",
    "    print('Download',row['productFilename'],row['size']/1000000,'MB','? y/n')\n",
    "    yn = input()\n",
    "    if yn == 'y':\n",
    "                \n",
    "        # make file path\n",
    "        out_path = os.path.join(\"fits\", row['obs_collection'], row['obs_id'])\n",
    "        if not os.path.exists(out_path):\n",
    "            os.makedirs(out_path)\n",
    "        out_path = os.path.join(out_path, os.path.basename(row['productFilename']))\n",
    "        \n",
    "        if os.path.isfile(out_path):\n",
    "            continue\n",
    "        \n",
    "        # Download the data\n",
    "        payload = {\"uri\":row['dataURI']}\n",
    "        resp = requests.get(download_url, params=payload)\n",
    "    \n",
    "        # save to file\n",
    "        with open(out_path,'wb') as FLE:\n",
    "            FLE.write(resp.content)\n",
    "        \n",
    "        # check for file \n",
    "        if not os.path.isfile(out_path):\n",
    "            print(\"ERROR: \" + out_path + \" failed to download.\")\n",
    "        else:\n",
    "            print(\"COMPLETE: \", out_path)\n",
    "    \n",
    "        "
   ]
  },
  {
   "cell_type": "markdown",
   "id": "0d596e48",
   "metadata": {},
   "source": [
    "#### Loading Data\n",
    "Run this cell to load JWST images into Imviz, the in-house software for processing post-pipeline JWST images. Can modify cuts factor here (percentage), generally the higher the better. The second cell can link the fits files by their WCS coords. Once the data is loaded you can run the third cell to open the Imviz GUI."
   ]
  },
  {
   "cell_type": "code",
   "execution_count": 23,
   "id": "18ab1f70",
   "metadata": {},
   "outputs": [
    {
     "name": "stdout",
     "output_type": "stream",
     "text": [
      "['fits/1.fits', 'fits/2.fits', 'fits/3.fits', 'fits/4.fits', 'fits/5.fits', 'fits/6.fits', 'fits/7.fits', 'fits/HLA/hst_06119_95_wfpc2_f814w_pc/hst_06119_95_wfpc2_f814w_pc_drz.fits', 'fits/HLA/hst_08805_ia_wfpc2_f300w_pc/hst_08805_ia_wfpc2_f300w_pc_drz.fits', 'fits/HLA/hst_08805_ia_wfpc2_f300w_pc_01/hst_08805_ia_wfpc2_f300w_pc_01_drz.fits']\n"
     ]
    }
   ],
   "source": [
    "all_fits = []\n",
    "\n",
    "for DIR, ROOT, FILES in os.walk('fits'):\n",
    "    for file in FILES:\n",
    "        if file.endswith('.fits'):\n",
    "            all_fits.append(os.path.join(DIR,file).replace('\\\\','/'))\n",
    "\n",
    "print(all_fits)"
   ]
  },
  {
   "cell_type": "code",
   "execution_count": 24,
   "id": "c62fb2b5",
   "metadata": {
    "scrolled": false
   },
   "outputs": [
    {
     "name": "stdout",
     "output_type": "stream",
     "text": [
      "fits/1.fits  loaded\n",
      "fits/2.fits  loaded\n",
      "fits/3.fits  loaded\n",
      "fits/4.fits  loaded\n",
      "fits/5.fits  loaded\n",
      "fits/6.fits  loaded\n",
      "fits/7.fits  loaded\n",
      "fits/HLA/hst_06119_95_wfpc2_f814w_pc/hst_06119_95_wfpc2_f814w_pc_drz.fits  loaded\n",
      "fits/HLA/hst_08805_ia_wfpc2_f300w_pc/hst_08805_ia_wfpc2_f300w_pc_drz.fits  loaded\n",
      "fits/HLA/hst_08805_ia_wfpc2_f300w_pc_01/hst_08805_ia_wfpc2_f300w_pc_01_drz.fits  loaded\n",
      "All files loaded!\n"
     ]
    },
    {
     "name": "stderr",
     "output_type": "stream",
     "text": [
      "C:\\Users\\Dan\\Documents\\PythonProjects\\JWSTProcessor\\venv\\Lib\\site-packages\\glue\\viewers\\common\\viewer.py:188: UserWarning: Add large data set?\n",
      "  warnings.warn(message)\n",
      "C:\\Users\\Dan\\Documents\\PythonProjects\\JWSTProcessor\\venv\\Lib\\site-packages\\glue\\viewers\\common\\viewer.py:188: UserWarning: Add large data set?\n",
      "  warnings.warn(message)\n",
      "C:\\Users\\Dan\\Documents\\PythonProjects\\JWSTProcessor\\venv\\Lib\\site-packages\\glue\\viewers\\common\\viewer.py:188: UserWarning: Add large data set?\n",
      "  warnings.warn(message)\n"
     ]
    },
    {
     "data": {
      "application/vnd.jupyter.widget-view+json": {
       "model_id": "3849bf25a6f44aa4ab80bb2e8096dc39",
       "version_major": 2,
       "version_minor": 0
      },
      "text/plain": [
       "Application(config='imviz', events=['call_viewer_method', 'close_snackbar_message', 'data_item_remove', 'data_…"
      ]
     },
     "metadata": {},
     "output_type": "display_data"
    }
   ],
   "source": [
    "with imviz.batch_load():\n",
    "    for file in all_fits:\n",
    "        imviz.load_data(file)\n",
    "        print(file,' loaded')\n",
    "    print('All files loaded!')\n",
    "\n",
    "#imviz.link_data(link_type='wcs')\n",
    "viewer = imviz.default_viewer\n",
    "viewer.cuts = '99%'\n",
    "imviz.show()"
   ]
  },
  {
   "cell_type": "code",
   "execution_count": 13,
   "id": "158195cc",
   "metadata": {},
   "outputs": [
    {
     "name": "stdout",
     "output_type": "stream",
     "text": [
      "fits/1.fits  loaded\n",
      "fits/2.fits  loaded\n",
      "fits/3.fits  loaded\n",
      "fits/4.fits  loaded\n",
      "fits/5.fits  loaded\n",
      "fits/6.fits  loaded\n",
      "fits/7.fits  loaded\n",
      "fits/HLA/hst_08805_ia_wfpc2_f300w_pc/hst_08805_ia_wfpc2_f300w_pc_drz.fits  loaded\n",
      "fits/HLA/hst_08805_ia_wfpc2_f300w_pc_01/hst_08805_ia_wfpc2_f300w_pc_01_drz.fits  loaded\n",
      "All files loaded!\n"
     ]
    },
    {
     "name": "stderr",
     "output_type": "stream",
     "text": [
      "C:\\Users\\Dan\\Documents\\PythonProjects\\JWSTProcessor\\venv\\Lib\\site-packages\\glue\\viewers\\common\\viewer.py:188: UserWarning: Add large data set?\n",
      "  warnings.warn(message)\n",
      "C:\\Users\\Dan\\Documents\\PythonProjects\\JWSTProcessor\\venv\\Lib\\site-packages\\glue\\viewers\\common\\viewer.py:188: UserWarning: Add large data set?\n",
      "  warnings.warn(message)\n",
      "C:\\Users\\Dan\\Documents\\PythonProjects\\JWSTProcessor\\venv\\Lib\\site-packages\\glue\\viewers\\common\\viewer.py:188: UserWarning: Add large data set?\n",
      "  warnings.warn(message)\n"
     ]
    },
    {
     "data": {
      "application/vnd.jupyter.widget-view+json": {
       "model_id": "3849bf25a6f44aa4ab80bb2e8096dc39",
       "version_major": 2,
       "version_minor": 0
      },
      "text/plain": [
       "Application(config='imviz', events=['call_viewer_method', 'close_snackbar_message', 'data_item_remove', 'data_…"
      ]
     },
     "metadata": {},
     "output_type": "display_data"
    },
    {
     "name": "stderr",
     "output_type": "stream",
     "text": [
      "C:\\Users\\Dan\\Documents\\PythonProjects\\JWSTProcessor\\venv\\Lib\\site-packages\\glue\\viewers\\common\\viewer.py:188: UserWarning: Add large data set?\n",
      "  warnings.warn(message)\n"
     ]
    }
   ],
   "source": [
    "viewer = imviz.create_image_viewer('im2')\n",
    "\n",
    "with imviz.batch_load():\n",
    "    for file in all_fits:\n",
    "        imviz.load_data(file, show_in_viewer='im2')\n",
    "        print(file,' loaded')\n",
    "    print('All files loaded!')\n",
    "\n",
    "#imviz.link_data(link_type='wcs')\n",
    "\n",
    "\n",
    "imviz.show()"
   ]
  },
  {
   "cell_type": "code",
   "execution_count": null,
   "id": "e98a13fc",
   "metadata": {},
   "outputs": [],
   "source": [
    "imviz.destroy_viewer('im2')\n"
   ]
  },
  {
   "cell_type": "markdown",
   "id": "f8efda5e",
   "metadata": {
    "scrolled": true
   },
   "source": [
    "#### Processing Options\n",
    "\n"
   ]
  },
  {
   "cell_type": "code",
   "execution_count": null,
   "id": "26644d79",
   "metadata": {},
   "outputs": [],
   "source": [
    "print(viewer.colormap_options)\n",
    "viewer.set_colormap('Inferno')"
   ]
  },
  {
   "cell_type": "code",
   "execution_count": null,
   "id": "58eae0a8",
   "metadata": {},
   "outputs": [],
   "source": [
    "filename = input('Type name of file: ')+'.png'\n",
    "print(filename)\n",
    "viewer.save(filename)"
   ]
  },
  {
   "cell_type": "code",
   "execution_count": 6,
   "id": "6f171562",
   "metadata": {},
   "outputs": [
    {
     "ename": "IndexError",
     "evalue": "too many indices for array: array is 2-dimensional, but 3 were indexed",
     "output_type": "error",
     "traceback": [
      "\u001b[1;31m---------------------------------------------------------------------------\u001b[0m",
      "\u001b[1;31mIndexError\u001b[0m                                Traceback (most recent call last)",
      "Cell \u001b[1;32mIn[6], line 1\u001b[0m\n\u001b[1;32m----> 1\u001b[0m \u001b[43maplpy\u001b[49m\u001b[38;5;241;43m.\u001b[39;49m\u001b[43mmake_rgb_image\u001b[49m\u001b[43m(\u001b[49m\u001b[38;5;124;43m'\u001b[39;49m\u001b[38;5;124;43mfits/1.fits\u001b[39;49m\u001b[38;5;124;43m'\u001b[39;49m\u001b[43m,\u001b[49m\u001b[38;5;124;43m'\u001b[39;49m\u001b[38;5;124;43m2mass_rgb.png\u001b[39;49m\u001b[38;5;124;43m'\u001b[39;49m\u001b[43m)\u001b[49m\n",
      "File \u001b[1;32m~\\Documents\\PythonProjects\\JWSTProcessor\\venv\\Lib\\site-packages\\aplpy\\rgb.py:132\u001b[0m, in \u001b[0;36mmake_rgb_image\u001b[1;34m(data, output, indices, vmin_r, vmax_r, pmin_r, pmax_r, stretch_r, vmid_r, exponent_r, vmin_g, vmax_g, pmin_g, pmax_g, stretch_g, vmid_g, exponent_g, vmin_b, vmax_b, pmin_b, pmax_b, stretch_b, vmid_b, exponent_b, make_nans_transparent, embed_avm_tags)\u001b[0m\n\u001b[0;32m    129\u001b[0m \u001b[38;5;28;01mif\u001b[39;00m \u001b[38;5;28misinstance\u001b[39m(data, \u001b[38;5;28mstr\u001b[39m):\n\u001b[0;32m    131\u001b[0m     image \u001b[38;5;241m=\u001b[39m fits\u001b[38;5;241m.\u001b[39mgetdata(data)\n\u001b[1;32m--> 132\u001b[0m     image_r \u001b[38;5;241m=\u001b[39m \u001b[43mimage\u001b[49m\u001b[43m[\u001b[49m\u001b[43mindices\u001b[49m\u001b[43m[\u001b[49m\u001b[38;5;241;43m0\u001b[39;49m\u001b[43m]\u001b[49m\u001b[43m,\u001b[49m\u001b[43m \u001b[49m\u001b[43m:\u001b[49m\u001b[43m,\u001b[49m\u001b[43m \u001b[49m\u001b[43m:\u001b[49m\u001b[43m]\u001b[49m\n\u001b[0;32m    133\u001b[0m     image_g \u001b[38;5;241m=\u001b[39m image[indices[\u001b[38;5;241m1\u001b[39m], :, :]\n\u001b[0;32m    134\u001b[0m     image_b \u001b[38;5;241m=\u001b[39m image[indices[\u001b[38;5;241m2\u001b[39m], :, :]\n",
      "\u001b[1;31mIndexError\u001b[0m: too many indices for array: array is 2-dimensional, but 3 were indexed"
     ]
    }
   ],
   "source": []
  },
  {
   "cell_type": "code",
   "execution_count": null,
   "id": "50c9ec1b",
   "metadata": {},
   "outputs": [],
   "source": []
  },
  {
   "cell_type": "code",
   "execution_count": null,
   "id": "973d86f6",
   "metadata": {},
   "outputs": [],
   "source": [
    "\n",
    "\n",
    "\n",
    "\n",
    "\n",
    "\n",
    "\n",
    "\n",
    "\n",
    "\n",
    "\n"
   ]
  },
  {
   "cell_type": "code",
   "execution_count": null,
   "id": "d292eff2",
   "metadata": {},
   "outputs": [],
   "source": []
  }
 ],
 "metadata": {
  "kernelspec": {
   "display_name": "Python 3 (ipykernel)",
   "language": "python",
   "name": "python3"
  },
  "language_info": {
   "codemirror_mode": {
    "name": "ipython",
    "version": 3
   },
   "file_extension": ".py",
   "mimetype": "text/x-python",
   "name": "python",
   "nbconvert_exporter": "python",
   "pygments_lexer": "ipython3",
   "version": "3.11.4"
  }
 },
 "nbformat": 4,
 "nbformat_minor": 5
}
