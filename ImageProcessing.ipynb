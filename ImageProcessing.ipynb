{
 "cells": [
  {
   "cell_type": "markdown",
   "id": "7c51402d",
   "metadata": {},
   "source": [
    "## Imports"
   ]
  },
  {
   "cell_type": "code",
   "execution_count": null,
   "id": "12b25c9b",
   "metadata": {},
   "outputs": [],
   "source": [
    "import matplotlib.pyplot as plt\n",
    "import numpy as np\n",
    "%matplotlib inline\n",
    "\n",
    "import os\n",
    "import re\n",
    "import sys\n",
    "import time\n",
    "import json\n",
    "import glob\n",
    "import pickle\n",
    "import requests\n",
    "import cv2\n",
    "\n",
    "from PIL import Image\n",
    "from copy import copy\n",
    "from urllib.parse import quote as urlencode\n",
    "import pprint\n",
    "pp = pprint.PrettyPrinter(indent=4)\n",
    "\n",
    "from ipywidgets import FileUpload\n",
    "from IPython.display import display\n",
    "\n",
    "import astropy\n",
    "from astropy import units as u\n",
    "from astropy.io import fits, ascii\n",
    "from astropy.wcs import WCS\n",
    "from astropy.modeling import models\n",
    "from astropy.table import Table, vstack\n",
    "from astropy.stats import sigma_clipped_stats\n",
    "from astropy.nddata import StdDevUncertainty\n",
    "from astropy.coordinates import SkyCoord, Angle\n",
    "from astropy.utils.data import download_file, get_pkg_data_filename\n",
    "from astropy.visualization import make_lupton_rgb\n",
    "\n",
    "import aplpy\n",
    "\n",
    "\n",
    "from photutils.aperture import CircularAperture, SkyCircularAperture\n",
    "from photutils.detection import DAOStarFinder\n",
    "\n",
    "from regions import PixCoord, CirclePixelRegion, CircleSkyRegion\n",
    "\n",
    "from specutils import Spectrum1D\n",
    "from specutils import SpectrumList\n",
    "from specutils.spectra import SpectralRegion\n",
    "from specutils.fitting import fit_generic_continuum, fit_lines\n",
    "from specutils.analysis import line_flux, centroid, equivalent_width\n",
    "from specutils.manipulation import box_smooth, extract_region, SplineInterpolatedResampler\n",
    "\n",
    "from scipy.optimize import curve_fit\n",
    "\n",
    "\n",
    "\n",
    "\n",
    "\n",
    "from jdaviz import Imviz, Specviz, Cubeviz\n",
    "from jdaviz.app import Application\n",
    "imviz = Imviz()\n",
    "specviz = Specviz()\n",
    "cubeviz = Cubeviz()\n",
    "\n"
   ]
  },
  {
   "cell_type": "markdown",
   "id": "bae3caa0",
   "metadata": {},
   "source": [
    "## Imviz\n"
   ]
  },
  {
   "cell_type": "markdown",
   "id": "cfe564ee",
   "metadata": {},
   "source": [
    "#### To import JWST images\n",
    "Find images as .fits files on https://mast.stsci.edu/portal/Mashup/Clients/Mast/Portal.html\n",
    "\n",
    "##### If you already downloaded the fits files, put them into fits directory."
   ]
  },
  {
   "cell_type": "markdown",
   "id": "320aff4c",
   "metadata": {},
   "source": [
    "#### Or alternatively, use MAST API to acquire them right here!\n",
    "The code below when run in order will take a target identifier as input and request its coordinates from the MAST database.\n",
    "\n",
    "Following this, all logged observations can be filtered by telescope/detector name and selected for download.\n",
    "\n",
    "If you have already manually acquired your fits files you can place them in a directory entitled 'fits' in the same folder as this notebook and skip to the section labelled 'Loading Data'"
   ]
  },
  {
   "cell_type": "markdown",
   "id": "ef90db3c",
   "metadata": {},
   "source": [
    "### API Code\n",
    "This cell defines the MAST query function for communicating with the MAST API"
   ]
  },
  {
   "cell_type": "code",
   "execution_count": null,
   "id": "4f5ccf76",
   "metadata": {},
   "outputs": [],
   "source": [
    "#from https://mast.stsci.edu/api/v0/MastApiTutorial.html\n",
    "\n",
    "def mast_query(request):\n",
    "    \"\"\"Perform a MAST query.\n",
    "    \n",
    "        Parameters\n",
    "        ----------\n",
    "        request (dictionary): The MAST request json object\n",
    "        \n",
    "        Returns head,content where head is the response HTTP headers, and content is the returned data\"\"\"\n",
    "    \n",
    "    # Base API url\n",
    "    request_url='https://mast.stsci.edu/api/v0/invoke'    \n",
    "    \n",
    "    # Grab Python Version \n",
    "    version = \".\".join(map(str, sys.version_info[:3]))\n",
    "\n",
    "    # Create Http Header Variables\n",
    "    headers = {\"Content-type\": \"application/x-www-form-urlencoded\",\n",
    "               \"Accept\": \"text/plain\",\n",
    "               \"User-agent\":\"python-requests/\"+version}\n",
    "\n",
    "    # Encoding the request as a json string\n",
    "    req_string = json.dumps(request)\n",
    "    req_string = urlencode(req_string)\n",
    "    \n",
    "    # Perform the HTTP request\n",
    "    resp = requests.post(request_url, data=\"request=\"+req_string, headers=headers)\n",
    "    \n",
    "    # Pull out the headers and response content\n",
    "    head = resp.headers\n",
    "    content = resp.content.decode('utf-8')\n",
    "\n",
    "    return head, content\n",
    "\n",
    "\n"
   ]
  },
  {
   "cell_type": "markdown",
   "id": "5965ca36",
   "metadata": {},
   "source": [
    "Run this cell to enter target name and receive coordinates"
   ]
  },
  {
   "cell_type": "code",
   "execution_count": null,
   "id": "333bcfef",
   "metadata": {},
   "outputs": [],
   "source": [
    "#returns RA, Dec from target identifier\n",
    "object_of_interest = input('Object of Interest (eg. Messier Catalog designation etc): ')\n",
    "\n",
    "resolver_request = {'service':'Mast.Name.Lookup',\n",
    "                     'params':{'input':object_of_interest,\n",
    "                               'format':'json'},\n",
    "                     }\n",
    "\n",
    "headers, resolved_object_string = mast_query(resolver_request)\n",
    "\n",
    "resolved_object = json.loads(resolved_object_string)\n",
    "\n",
    "print(resolved_object)\n",
    "\n",
    "obj_type = resolved_object['resolvedCoordinate'][0]['objectType']\n",
    "obj_ra = resolved_object['resolvedCoordinate'][0]['ra']\n",
    "obj_dec = resolved_object['resolvedCoordinate'][0]['decl']\n",
    "\n",
    "print('Object Type    : ',obj_type)\n",
    "print('Right Ascension: ',obj_ra)\n",
    "print('Declination    : ',obj_dec)\n"
   ]
  },
  {
   "cell_type": "markdown",
   "id": "5dc2f683",
   "metadata": {},
   "source": [
    "These next cells get the data for all observations of your selected target"
   ]
  },
  {
   "cell_type": "code",
   "execution_count": null,
   "id": "039e85f9",
   "metadata": {},
   "outputs": [],
   "source": [
    "rownum = eval(input('Enter number of rows to return: '))\n",
    "\n",
    "mast_request = {'service':'Mast.Caom.Cone',\n",
    "                'params':{'ra':obj_ra,\n",
    "                          'dec':obj_dec,\n",
    "                          'radius':0.2},\n",
    "                'format':'json',\n",
    "                'pagesize':rownum,\n",
    "                'page':1,\n",
    "                'removenullcolumns':True,\n",
    "                'removecache':True}\n",
    "\n",
    "headers, mast_data_str = mast_query(mast_request)\n",
    "\n",
    "mast_data = json.loads(mast_data_str)\n",
    "\n",
    "pp.pprint(mast_data['data'][0])"
   ]
  },
  {
   "cell_type": "code",
   "execution_count": null,
   "id": "d466810a",
   "metadata": {},
   "outputs": [],
   "source": [
    "#Trying something here IGNORE THIS CELL\n",
    "\n",
    "mashup_request = {\"service\":\"Mast.JWST.Filtered.NIRCAM\",\n",
    "                 \"format\":\"json\",\n",
    "                 \"params\":{\n",
    "                     \"columns\":\"*\",\n",
    "                     \"filters\":[\n",
    "                         {\"paramName\":\"ra\",\n",
    "                          \"values\":[obj_ra]\n",
    "                         },\n",
    "                         {\"paramName\":\"dec\",\n",
    "                          \"values\":[obj_dec] \n",
    "                         }\n",
    "                         \n",
    "                     ]}}\n",
    "    \n",
    "headers, out_string = mast_query(mashup_request)\n",
    "mast_data = json.loads(out_string)\n",
    "\n",
    "print(mast_data.keys())\n",
    "print(\"Query status:\", mast_data['status'])"
   ]
  },
  {
   "cell_type": "code",
   "execution_count": null,
   "id": "344fca6b",
   "metadata": {},
   "outputs": [],
   "source": [
    "mast_data_table = Table()\n",
    "\n",
    "for col,atype in [(x['name'],x['type']) for x in mast_data['fields']]:\n",
    "    if atype==\"string\":\n",
    "        atype=\"str\"\n",
    "    if atype==\"boolean\":\n",
    "        atype=\"bool\"\n",
    "    mast_data_table[col] = np.array([x.get(col,None) for x in mast_data['data']],dtype=atype)\n",
    "    \n",
    "print(mast_data_table)"
   ]
  },
  {
   "cell_type": "markdown",
   "id": "7dfd262d",
   "metadata": {},
   "source": [
    "Run the next cell to select instrument/telescope collection, then choose dataproducts you wish to prime for download. Bear in mind some JWST targets that have been observed may not have been made available to the public yet!"
   ]
  },
  {
   "cell_type": "code",
   "execution_count": null,
   "id": "fd82a759",
   "metadata": {},
   "outputs": [],
   "source": [
    "inst = input('Choose instrument/collection (eg. HST, JWST): ')\n",
    "\n",
    "interesting_observations = mast_data_table[mast_data_table[\"obs_collection\"] == inst]\n",
    "\n",
    "\n",
    "print(len(interesting_observations), \"matching collection pieces found\")\n",
    "for i in range(0, len(interesting_observations)):\n",
    "    print(i,\":\",[interesting_observations[i][x] for x in ['dataproduct_type', 'obs_collection', 'instrument_name','filters']])\n",
    "\n",
    "if len(interesting_observations) > 0:\n",
    "    selection = int(input(\"Please pick one: \"))"
   ]
  },
  {
   "cell_type": "markdown",
   "id": "74242ad4",
   "metadata": {},
   "source": [
    "The next cells retrieve your chosen dataproducts and provide a list of all files you can download."
   ]
  },
  {
   "cell_type": "code",
   "execution_count": null,
   "id": "d3d16964",
   "metadata": {},
   "outputs": [],
   "source": [
    "\n",
    "\n",
    "obsid = interesting_observations[selection]['obsid']\n",
    "\n",
    "product_request = {'service':'Mast.Caom.Products',\n",
    "                  'params':{'obsid':obsid},\n",
    "                  'format':'json',\n",
    "                  'pagesize':100,\n",
    "                  'page':1}   \n",
    "\n",
    "headers, obs_products_string = mast_query(product_request)\n",
    "\n",
    "obs_products = json.loads(obs_products_string)\n",
    "\n",
    "print(\"Number of data products:\", len(obs_products[\"data\"]))\n",
    "#print(\"Product information column names:\")\n",
    "#pp.pprint(obs_products['fields'])\n",
    "\n",
    "pp.pprint([x.get('productType',\"\") for x in obs_products[\"data\"][:10]])\n",
    "\n"
   ]
  },
  {
   "cell_type": "code",
   "execution_count": null,
   "id": "178a394c",
   "metadata": {},
   "outputs": [],
   "source": [
    "sci_prod_arr = [x for x in obs_products['data'] if x.get(\"productType\", None) == 'SCIENCE']\n",
    "science_products = Table()\n",
    "\n",
    "for col, atype in [(x['name'], x['type']) for x in obs_products['fields']]:\n",
    "    if atype==\"string\":\n",
    "        atype=\"str\"\n",
    "    if atype==\"boolean\":\n",
    "        atype=\"bool\"\n",
    "    if atype == \"int\":\n",
    "        atype = \"float\" # array may contain nan values, and they do not exist in numpy integer arrays\n",
    "    science_products[col] = np.array([x.get(col,None) for x in sci_prod_arr],dtype=atype)\n",
    "\n",
    "print(\"Number of science products:\",len(science_products))\n",
    "print(science_products)"
   ]
  },
  {
   "cell_type": "markdown",
   "id": "81cc9f83",
   "metadata": {},
   "source": [
    "Finally, you will be prompted on each product whether you want to download them or not. This helps screen out superfluous files like star catalog csvs if you do not wish to have them."
   ]
  },
  {
   "cell_type": "code",
   "execution_count": null,
   "id": "7d51c27b",
   "metadata": {},
   "outputs": [],
   "source": [
    "download_url = 'https://mast.stsci.edu/api/v0.1/Download/file?'\n",
    "\n",
    "for row in science_products:     \n",
    "    print('Download',row['productFilename'],row['size']/1000000,'MB','? y/n')\n",
    "    yn = input()\n",
    "    if yn == 'y':\n",
    "                \n",
    "        # make file path\n",
    "        out_path = os.path.join(\"fits\", row['obs_collection'], row['obs_id'])\n",
    "        if not os.path.exists(out_path):\n",
    "            os.makedirs(out_path)\n",
    "        out_path = os.path.join(out_path, os.path.basename(row['productFilename']))\n",
    "        \n",
    "        if os.path.isfile(out_path):\n",
    "            continue\n",
    "        \n",
    "        # Download the data\n",
    "        payload = {\"uri\":row['dataURI']}\n",
    "        resp = requests.get(download_url, params=payload)\n",
    "    \n",
    "        # save to file\n",
    "        with open(out_path,'wb') as FLE:\n",
    "            FLE.write(resp.content)\n",
    "        \n",
    "        # check for file \n",
    "        if not os.path.isfile(out_path):\n",
    "            print(\"ERROR: \" + out_path + \" failed to download.\")\n",
    "        else:\n",
    "            print(\"COMPLETE: \", out_path)\n",
    "    \n",
    "        "
   ]
  },
  {
   "cell_type": "markdown",
   "id": "0d596e48",
   "metadata": {},
   "source": [
    "#### Loading Data\n",
    "Run this cell to load JWST images into Imviz, the in-house software for processing post-pipeline JWST images. Can modify cuts factor here (percentage), generally the higher the better. The second cell can link the fits files by their WCS coords. Once the data is loaded you can run the third cell to open the Imviz GUI."
   ]
  },
  {
   "cell_type": "code",
   "execution_count": null,
   "id": "18ab1f70",
   "metadata": {},
   "outputs": [],
   "source": [
    "all_fits = []\n",
    "\n",
    "for DIR, ROOT, FILES in os.walk('fits'):\n",
    "    for file in FILES:\n",
    "        if file.endswith('.fits'):\n",
    "            all_fits.append(os.path.join(DIR,file).replace('\\\\','/'))\n",
    "\n",
    "print(all_fits)"
   ]
  },
  {
   "cell_type": "code",
   "execution_count": null,
   "id": "c62fb2b5",
   "metadata": {
    "scrolled": false
   },
   "outputs": [],
   "source": [
    "with imviz.batch_load():\n",
    "    for file in all_fits:\n",
    "        imviz.load_data(file)\n",
    "        print(file,' loaded')\n",
    "    print('All files loaded!')\n",
    "\n",
    "#imviz.link_data(link_type='wcs')\n",
    "viewer = imviz.default_viewer\n",
    "viewer.cuts = '99%'\n",
    "imviz.show()"
   ]
  },
  {
   "cell_type": "code",
   "execution_count": null,
   "id": "158195cc",
   "metadata": {},
   "outputs": [],
   "source": [
    "viewer = imviz.create_image_viewer('im2')\n",
    "\n",
    "with imviz.batch_load():\n",
    "    for file in all_fits:\n",
    "        imviz.load_data(file, show_in_viewer='im2')\n",
    "        print(file,' loaded')\n",
    "    print('All files loaded!')\n",
    "\n",
    "#imviz.link_data(link_type='wcs')\n",
    "\n",
    "\n",
    "imviz.show()"
   ]
  },
  {
   "cell_type": "code",
   "execution_count": null,
   "id": "e98a13fc",
   "metadata": {},
   "outputs": [],
   "source": [
    "imviz.destroy_viewer('im2')\n"
   ]
  },
  {
   "cell_type": "markdown",
   "id": "f8efda5e",
   "metadata": {
    "scrolled": true
   },
   "source": [
    "#### Processing Options\n",
    "\n"
   ]
  },
  {
   "cell_type": "code",
   "execution_count": null,
   "id": "26644d79",
   "metadata": {},
   "outputs": [],
   "source": [
    "print(viewer.colormap_options)\n",
    "viewer.set_colormap('Inferno')"
   ]
  },
  {
   "cell_type": "code",
   "execution_count": null,
   "id": "58eae0a8",
   "metadata": {},
   "outputs": [],
   "source": [
    "filename = input('Type name of file: ')+'.png'\n",
    "print(filename)\n",
    "viewer.save(filename)"
   ]
  },
  {
   "cell_type": "code",
   "execution_count": null,
   "id": "6f171562",
   "metadata": {},
   "outputs": [],
   "source": []
  },
  {
   "cell_type": "code",
   "execution_count": null,
   "id": "50c9ec1b",
   "metadata": {},
   "outputs": [],
   "source": []
  },
  {
   "cell_type": "code",
   "execution_count": null,
   "id": "973d86f6",
   "metadata": {},
   "outputs": [],
   "source": [
    "\n",
    "\n",
    "\n",
    "\n",
    "\n",
    "\n",
    "\n",
    "\n",
    "\n",
    "\n",
    "\n"
   ]
  },
  {
   "cell_type": "code",
   "execution_count": null,
   "id": "d292eff2",
   "metadata": {},
   "outputs": [],
   "source": []
  }
 ],
 "metadata": {
  "kernelspec": {
   "display_name": "Python 3 (ipykernel)",
   "language": "python",
   "name": "python3"
  },
  "language_info": {
   "codemirror_mode": {
    "name": "ipython",
    "version": 3
   },
   "file_extension": ".py",
   "mimetype": "text/x-python",
   "name": "python",
   "nbconvert_exporter": "python",
   "pygments_lexer": "ipython3",
   "version": "3.11.4"
  }
 },
 "nbformat": 4,
 "nbformat_minor": 5
}
